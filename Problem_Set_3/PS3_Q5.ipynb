{
 "cells": [
  {
   "cell_type": "code",
   "execution_count": 1,
   "metadata": {},
   "outputs": [],
   "source": [
    "import numpy as np\n",
    "from astropy.io import fits\n",
    "from matplotlib import pyplot as plt\n",
    "from scipy import fft\n",
    "import time"
   ]
  },
  {
   "cell_type": "markdown",
   "metadata": {},
   "source": [
    "# Loading data"
   ]
  },
  {
   "cell_type": "code",
   "execution_count": 2,
   "metadata": {},
   "outputs": [
    {
     "name": "stdout",
     "output_type": "stream",
     "text": [
      "read map\n"
     ]
    }
   ],
   "source": [
    "hdul = fits.open('advact_tt_patch.fits')\n",
    "map = hdul[0].data\n",
    "hdul.close()\n",
    "map = np.asarray(map,dtype='float')\n",
    "print('read map')"
   ]
  },
  {
   "cell_type": "markdown",
   "metadata": {},
   "source": [
    "# Defining Functions"
   ]
  },
  {
   "cell_type": "code",
   "execution_count": 3,
   "metadata": {},
   "outputs": [],
   "source": [
    "def pad_map(map):\n",
    "    map=np.hstack([map,np.fliplr(map)])\n",
    "    map=np.vstack([map,np.flipud(map)])\n",
    "    return map\n",
    "\n",
    "def unpad_map(map):\n",
    "    x = map.shape[0]\n",
    "    y = map.shape[1]\n",
    "    \n",
    "    #x, y must be even since they are the sizes of a padded image\n",
    "    map = map[:int(x/2), :int(y/2)]\n",
    "    return map\n",
    "\n",
    "def get_gauss_kernel(map,sig,norm=False):\n",
    "    nx=map.shape[0]\n",
    "    x=np.fft.fftfreq(map.shape[0])*map.shape[0]\n",
    "    y=np.fft.fftfreq(map.shape[1])*map.shape[1]\n",
    "    rsqr=np.outer(x**2,np.ones(map.shape[1]))+np.outer(np.ones(map.shape[0]),y**2)\n",
    "    kernel=np.exp((-0.5/sig**2)*rsqr)\n",
    "    if norm:\n",
    "        kernel=kernel/kernel.sum()\n",
    "    return kernel\n",
    "\n",
    "def estimate_ps(map):\n",
    "    #first I will find the power spectrum of the map, then I will smooth it\n",
    "    map_f = np.fft.fft2(map)\n",
    "    map_ps = (np.abs(map_f))**2\n",
    "    \n",
    "    #smoothing\n",
    "    gauss_kernel = get_gauss_kernel(map, sig=14, norm = True)\n",
    "    gauss_kernel_f = np.fft.fft2(gauss_kernel)\n",
    "    \n",
    "    map_ps_f = np.fft.fft2(map_ps)\n",
    "    ps_smoothed = np.fft.ifft2(map_ps_f * gauss_kernel_f)\n",
    "    \n",
    "    ps_smoothed = np.fft.fftshift(ps_smoothed)\n",
    "    return np.real(ps_smoothed)\n",
    "\n",
    "def filter_map(map, ps):\n",
    "    #ps : power spectrum\n",
    "    map = pad_map(map)\n",
    "    map_ft = np.fft.fft2(map)\n",
    "    map_ft = map_ft/ps\n",
    "    map_filt=np.real(np.fft.ifft2(map_ft))\n",
    "    map_filt = unpad_map(map_filt)\n",
    "    return map_filt"
   ]
  },
  {
   "cell_type": "markdown",
   "metadata": {},
   "source": [
    "# Power Spectrum and Filtering"
   ]
  },
  {
   "cell_type": "code",
   "execution_count": 4,
   "metadata": {},
   "outputs": [],
   "source": [
    "x0 = 2997\n",
    "y0 = 1998\n",
    "width = 30\n",
    "patch = map[x0-width:x0+width, y0-width:y0+width]"
   ]
  },
  {
   "cell_type": "code",
   "execution_count": 5,
   "metadata": {},
   "outputs": [],
   "source": [
    "patch_padded = pad_map(patch)\n",
    "ps = estimate_ps(patch_padded)\n",
    "#filtermap = filter_map(map, ps)"
   ]
  },
  {
   "cell_type": "code",
   "execution_count": 6,
   "metadata": {},
   "outputs": [
    {
     "data": {
      "text/plain": [
       "(120, 120)"
      ]
     },
     "execution_count": 6,
     "metadata": {},
     "output_type": "execute_result"
    }
   ],
   "source": [
    "ps.shape"
   ]
  },
  {
   "cell_type": "markdown",
   "metadata": {},
   "source": [
    "# Matched Filter"
   ]
  },
  {
   "cell_type": "code",
   "execution_count": 7,
   "metadata": {},
   "outputs": [],
   "source": [
    "#N^-1 times the template\n",
    "template =  get_gauss_kernel(patch_padded, sig=14, norm = True) #sig comes from my answer to Q1\n",
    "tft=np.fft.fft2(template)\n",
    "datft=np.fft.fft2(patch_padded)\n",
    "Ninv= 1/ps\n",
    "\n",
    "Ninvt=tft*Ninv  \n",
    "mf_rhs=np.real(np.fft.ifft2(Ninvt*np.conj(datft)))\n",
    "mf_rhs_check=np.real(np.fft.ifft2(np.conj(datft*Ninv)*tft))\n",
    "\n",
    "#make A^T N^-1 A\n",
    "NinvA_real=np.real(np.fft.ifft2(Ninvt)) #N^-1 A\n",
    "mf_lhs = template * NinvA_real #N^-1 A "
   ]
  },
  {
   "cell_type": "code",
   "execution_count": 8,
   "metadata": {},
   "outputs": [],
   "source": [
    "amp = unpad_map(mf_rhs/mf_lhs)\n",
    "err = unpad_map(1/np.sqrt(mf_lhs))"
   ]
  },
  {
   "cell_type": "code",
   "execution_count": 9,
   "metadata": {},
   "outputs": [
    {
     "data": {
      "text/plain": [
       "array([[-5.35794128e+06, -5.38534413e+06, -5.53601573e+06, ...,\n",
       "        -6.78184817e+14, -1.22847171e+15, -2.23775536e+15],\n",
       "       [-5.38532798e+06, -5.41287089e+06, -5.56431264e+06, ...,\n",
       "        -6.81651188e+14, -1.23475071e+15, -2.24919280e+15],\n",
       "       [-5.32567860e+06, -5.35291643e+06, -5.50300259e+06, ...,\n",
       "        -6.88487446e+14, -1.24723041e+15, -2.27204143e+15],\n",
       "       ...,\n",
       "       [ 8.88649558e+14,  8.93194331e+14,  9.12687854e+14, ...,\n",
       "         1.88899610e+22,  3.35267088e+22,  6.01327610e+22],\n",
       "       [ 1.58721800e+15,  1.59533535e+15,  1.63020164e+15, ...,\n",
       "         3.39506137e+22,  6.02652702e+22,  1.08129286e+23],\n",
       "       [ 2.84628561e+15,  2.86084162e+15,  2.92342448e+15, ...,\n",
       "         6.08998530e+22,  1.08048451e+23,  1.93539672e+23]])"
      ]
     },
     "execution_count": 9,
     "metadata": {},
     "output_type": "execute_result"
    }
   ],
   "source": [
    "#amplitude in the region arond the cluster (we assumed that the cluster is in the center meaning amp [30, 30])\n",
    "amp"
   ]
  },
  {
   "cell_type": "code",
   "execution_count": 10,
   "metadata": {},
   "outputs": [
    {
     "data": {
      "text/plain": [
       "array([[1.17293719e+07, 1.17593282e+07, 1.18496569e+07, ...,\n",
       "        4.65984039e+10, 6.24866612e+10, 8.41283921e+10],\n",
       "       [1.17593105e+07, 1.17893433e+07, 1.18799026e+07, ...,\n",
       "        4.67173401e+10, 6.26461496e+10, 8.43431131e+10],\n",
       "       [1.18495858e+07, 1.18798492e+07, 1.19711037e+07, ...,\n",
       "        4.70759732e+10, 6.31270611e+10, 8.49905700e+10],\n",
       "       ...,\n",
       "       [4.63418338e+10, 4.64601844e+10, 4.68170530e+10, ...,\n",
       "        1.84077697e+14, 2.46875335e+14, 3.32133086e+14],\n",
       "       [6.20727505e+10, 6.22312743e+10, 6.27092790e+10, ...,\n",
       "        2.46636210e+14, 3.30795341e+14, 4.45111953e+14],\n",
       "       [8.32506876e+10, 8.34632897e+10, 8.41043590e+10, ...,\n",
       "        3.30201537e+14, 4.42762235e+14, 5.95273265e+14]])"
      ]
     },
     "execution_count": 10,
     "metadata": {},
     "output_type": "execute_result"
    }
   ],
   "source": [
    "#error bar from the matched filter\n",
    "#the error bars are very larg, I must have messed up somewhere but I can't find it\n",
    "err"
   ]
  }
 ],
 "metadata": {
  "kernelspec": {
   "display_name": "Python 3",
   "language": "python",
   "name": "python3"
  },
  "language_info": {
   "codemirror_mode": {
    "name": "ipython",
    "version": 3
   },
   "file_extension": ".py",
   "mimetype": "text/x-python",
   "name": "python",
   "nbconvert_exporter": "python",
   "pygments_lexer": "ipython3",
   "version": "3.8.5"
  }
 },
 "nbformat": 4,
 "nbformat_minor": 4
}
