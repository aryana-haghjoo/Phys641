{
 "cells": [
  {
   "cell_type": "code",
   "execution_count": 1,
   "metadata": {},
   "outputs": [],
   "source": [
    "import numpy as np\n",
    "from astropy.io import fits\n",
    "from matplotlib import pyplot as plt\n",
    "from scipy import fft\n",
    "import time"
   ]
  },
  {
   "cell_type": "markdown",
   "metadata": {},
   "source": [
    "# Generating a white noise as our map"
   ]
  },
  {
   "cell_type": "code",
   "execution_count": 2,
   "metadata": {},
   "outputs": [],
   "source": [
    "#I chose the size to exactly match the size of the real map\n",
    "map = np.random.randn(4000, 6000)"
   ]
  },
  {
   "cell_type": "markdown",
   "metadata": {},
   "source": [
    "# Defining Functions"
   ]
  },
  {
   "cell_type": "code",
   "execution_count": 3,
   "metadata": {},
   "outputs": [],
   "source": [
    "def pad_map(map):\n",
    "    map=np.hstack([map,np.fliplr(map)])\n",
    "    map=np.vstack([map,np.flipud(map)])\n",
    "    return map\n",
    "\n",
    "def unpad_map(map):\n",
    "    x = map.shape[0]\n",
    "    y = map.shape[1]\n",
    "    \n",
    "    #x, y must be even since they are the sizes of a padded image\n",
    "    map = map[:int(x/2), :int(y/2)]\n",
    "    return map\n",
    "\n",
    "def get_gauss_kernel(map,sig,norm=False):\n",
    "    nx=map.shape[0]\n",
    "    x=np.fft.fftfreq(map.shape[0])*map.shape[0]\n",
    "    y=np.fft.fftfreq(map.shape[1])*map.shape[1]\n",
    "    rsqr=np.outer(x**2,np.ones(map.shape[1]))+np.outer(np.ones(map.shape[0]),y**2)\n",
    "    kernel=np.exp((-0.5/sig**2)*rsqr)\n",
    "    if norm:\n",
    "        kernel=kernel/kernel.sum()\n",
    "    return kernel\n",
    "\n",
    "def estimate_ps(map):\n",
    "    #first I will find the power spectrum of the map, then I will smooth it\n",
    "    map_f = np.fft.fft2(map)\n",
    "    map_ps = (np.abs(map_f))**2\n",
    "    \n",
    "    #smoothing\n",
    "    gauss_kernel = get_gauss_kernel(map, sig=14, norm = True)\n",
    "    gauss_kernel_f = np.fft.fft2(gauss_kernel)\n",
    "    \n",
    "    map_ps_f = np.fft.fft2(map_ps)\n",
    "    ps_smoothed = np.fft.ifft2(map_ps_f * gauss_kernel_f)\n",
    "    \n",
    "    ps_smoothed = np.fft.fftshift(ps_smoothed)\n",
    "    return np.real(ps_smoothed)\n",
    "\n",
    "def filter_map(map, ps):\n",
    "    #ps : power spectrum\n",
    "    map = pad_map(map)\n",
    "    map_ft = np.fft.fft2(map)\n",
    "    map_ft = map_ft/ps\n",
    "    #print(map_ft.shape)\n",
    "    map_filt=np.real(np.fft.ifft2(map_ft))\n",
    "    #print(map_filt.shape)\n",
    "    map_filt = unpad_map(map_filt)\n",
    "    return map_filt"
   ]
  },
  {
   "cell_type": "markdown",
   "metadata": {},
   "source": [
    "# Power Spectrum and Filtering"
   ]
  },
  {
   "cell_type": "code",
   "execution_count": 4,
   "metadata": {},
   "outputs": [],
   "source": [
    "map_padded = pad_map(map)\n",
    "ps = estimate_ps(map_padded)\n",
    "filtermap = filter_map(map, ps)"
   ]
  },
  {
   "cell_type": "code",
   "execution_count": 5,
   "metadata": {},
   "outputs": [
    {
     "name": "stdout",
     "output_type": "stream",
     "text": [
      "variance of original map:  1.0001045596267755\n",
      "variance of filtered map:  1.0876499720600076e-16\n"
     ]
    }
   ],
   "source": [
    "print('variance of original map: ', np.var(map))\n",
    "print('variance of filtered map: ', np.var(filtermap))"
   ]
  }
 ],
 "metadata": {
  "kernelspec": {
   "display_name": "Python 3",
   "language": "python",
   "name": "python3"
  },
  "language_info": {
   "codemirror_mode": {
    "name": "ipython",
    "version": 3
   },
   "file_extension": ".py",
   "mimetype": "text/x-python",
   "name": "python",
   "nbconvert_exporter": "python",
   "pygments_lexer": "ipython3",
   "version": "3.8.5"
  }
 },
 "nbformat": 4,
 "nbformat_minor": 4
}
