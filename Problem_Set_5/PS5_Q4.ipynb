{
 "cells": [
  {
   "cell_type": "markdown",
   "metadata": {},
   "source": [
    "# a"
   ]
  },
  {
   "cell_type": "markdown",
   "metadata": {},
   "source": [
    "If we increase the telescope sensivity by a factor of 4, the radius will increase by a factor of 2. Since the brighness is depandant on the inverse of second power of radius, we can estimate that the brighness will decrease by a factor of 4.\n",
    "Thus:\n",
    "\n",
    " $ r = S^{-2}$\n",
    " \n",
    " Which gives:\n",
    " \n",
    " $N(S)$ = $r^3$ = $({S}^{-2})^{1/3}$ = $S^{-3/2}$"
   ]
  },
  {
   "cell_type": "markdown",
   "metadata": {},
   "source": [
    "# b"
   ]
  },
  {
   "cell_type": "code",
   "execution_count": 1,
   "metadata": {},
   "outputs": [],
   "source": [
    "import numpy as np\n",
    "lamda = 0.214    # 1.4 GHz"
   ]
  },
  {
   "cell_type": "code",
   "execution_count": 2,
   "metadata": {},
   "outputs": [
    {
     "name": "stdout",
     "output_type": "stream",
     "text": [
      "GBT confusion Limit:  1.6366282401833183 mJy\n"
     ]
    }
   ],
   "source": [
    "#GBT\n",
    "d = 91.4 #m\n",
    "beam_size = (1.22 * lamda)/d * ((60 * 180)/np.pi)\n",
    "n_source = 100 * (beam_size/60)**2\n",
    "confusion_limit_1 = np.sqrt(n_source)\n",
    "print('GBT confusion Limit: ',confusion_limit_1,'mJy')"
   ]
  },
  {
   "cell_type": "code",
   "execution_count": 3,
   "metadata": {},
   "outputs": [
    {
     "name": "stdout",
     "output_type": "stream",
     "text": [
      "FAST confusion Limit:  0.49862607050918445 mJy\n"
     ]
    }
   ],
   "source": [
    "#FAST\n",
    "d = 300 #m\n",
    "beam_size = (1.22 * lamda)/d * ((60 * 180)/np.pi)\n",
    "n_source = 100 * (beam_size/60)**2\n",
    "confusion_limit_2 = np.sqrt(n_source)\n",
    "print('FAST confusion Limit: ',confusion_limit_2,'mJy')"
   ]
  },
  {
   "cell_type": "code",
   "execution_count": 4,
   "metadata": {},
   "outputs": [
    {
     "name": "stdout",
     "output_type": "stream",
     "text": [
      "VLA A confusion Limit:  0.005 mJy\n"
     ]
    }
   ],
   "source": [
    "#VLA A Array\n",
    "\n",
    "beam_size = (1.22 * lamda)/d * ((60 * 180)/np.pi)  # Converitng radians to arcminutes\n",
    "n_source = 100 * (0.03/60)**2\n",
    "confusion_limit_3 = np.sqrt(n_source)\n",
    "print('VLA A confusion Limit: ',confusion_limit_3,'mJy')"
   ]
  },
  {
   "cell_type": "code",
   "execution_count": 5,
   "metadata": {},
   "outputs": [
    {
     "name": "stdout",
     "output_type": "stream",
     "text": [
      "VLA D confusion Limit:  0.5 mJy\n"
     ]
    }
   ],
   "source": [
    "# VLA D Array\n",
    "beam_size = (1.22 * lamda)/d * ((60 * 180)/np.pi)\n",
    "n_source = 100 * (3/60)**2\n",
    "confusion_limit_4 = np.sqrt(n_source)\n",
    "print('VLA D confusion Limit: ',confusion_limit_4,'mJy')"
   ]
  },
  {
   "cell_type": "markdown",
   "metadata": {},
   "source": [
    "# c"
   ]
  },
  {
   "cell_type": "code",
   "execution_count": 6,
   "metadata": {},
   "outputs": [],
   "source": [
    "T_sys = 25   #degree Celsius\n",
    "bw = 500e6   # MHz"
   ]
  },
  {
   "cell_type": "code",
   "execution_count": 7,
   "metadata": {},
   "outputs": [
    {
     "name": "stdout",
     "output_type": "stream",
     "text": [
      "GBT Integration time:  0.1166675130446186 s\n"
     ]
    }
   ],
   "source": [
    "#GBT\n",
    "dt = 2*confusion_limit_1*1e-3\n",
    "t = ((T_sys/dt)**2)/bw\n",
    "print('GBT Integration time: ',t,'s')"
   ]
  },
  {
   "cell_type": "code",
   "execution_count": 8,
   "metadata": {},
   "outputs": [
    {
     "name": "stdout",
     "output_type": "stream",
     "text": [
      "FAST Integration time:  1.256898066786969 s\n"
     ]
    }
   ],
   "source": [
    "#FAST\n",
    "dt = 2*confusion_limit_2*1e-3\n",
    "t = ((T_sys/dt)**2)/bw\n",
    "print('FAST Integration time: ',t,'s')"
   ]
  },
  {
   "cell_type": "code",
   "execution_count": 9,
   "metadata": {},
   "outputs": [
    {
     "name": "stdout",
     "output_type": "stream",
     "text": [
      "VLA D Array Integration time:  12500.0 s\n"
     ]
    }
   ],
   "source": [
    "#VLA D Array\n",
    "dt = 2*confusion_limit_3*1e-3\n",
    "t = ((T_sys/dt)**2)/bw\n",
    "print('VLA D Array Integration time: ',t,'s')"
   ]
  },
  {
   "cell_type": "code",
   "execution_count": 10,
   "metadata": {},
   "outputs": [
    {
     "name": "stdout",
     "output_type": "stream",
     "text": [
      "VLA Array Integration:  1.25 s\n"
     ]
    }
   ],
   "source": [
    "#VLA A Array\n",
    "dt = 2*confusion_limit_4*1e-3\n",
    "t = ((T_sys/dt)**2)/bw\n",
    "print('VLA Array Integration: ',t,'s')"
   ]
  },
  {
   "cell_type": "markdown",
   "metadata": {},
   "source": [
    "# d"
   ]
  },
  {
   "cell_type": "code",
   "execution_count": 11,
   "metadata": {},
   "outputs": [],
   "source": [
    "T_sys = 25 \n",
    "bw = 2e9"
   ]
  },
  {
   "cell_type": "code",
   "execution_count": 12,
   "metadata": {},
   "outputs": [
    {
     "name": "stdout",
     "output_type": "stream",
     "text": [
      "GBT Limit 0.2829684340503869 mJy\n",
      "GBT Integration time 0.9756949283037527 s\n"
     ]
    }
   ],
   "source": [
    "d = 91.4  \n",
    "lamda = 0.037 \n",
    "beam_size = (1.22 * lamda)/d * ((60 * 180)/np.pi)\n",
    "n_source = 100 * (beam_size/60)**2\n",
    "confusion_limit = np.sqrt(n_source)\n",
    "print('GBT Limit',confusion_limit,'mJy')\n",
    "dt = 2*confusion_limit*1e-3\n",
    "t = ((T_sys/dt)**2)/bw\n",
    "print('GBT Integration time',t,'s')"
   ]
  },
  {
   "cell_type": "code",
   "execution_count": 13,
   "metadata": {},
   "outputs": [
    {
     "name": "stdout",
     "output_type": "stream",
     "text": [
      "FAST confusion Limit 0.08621104957401787 mJy\n",
      "FAST Integration time 10.511487192581455 seconds\n"
     ]
    }
   ],
   "source": [
    "#FAST\n",
    "d = 300 \n",
    "beam_size = (1.22 * lamda)/d * ((60 * 180)/np.pi)\n",
    "n_source = 100 * (beam_size/60)**2\n",
    "confusion_limit = np.sqrt(n_source)\n",
    "print('FAST confusion Limit',confusion_limit,'mJy')\n",
    "dt = 2*confusion_limit*1e-3\n",
    "t = ((T_sys/dt)**2)/bw\n",
    "print('FAST Integration time',t,'seconds')"
   ]
  },
  {
   "cell_type": "code",
   "execution_count": 14,
   "metadata": {},
   "outputs": [
    {
     "name": "stdout",
     "output_type": "stream",
     "text": [
      "VLA A Array confusion Limit 0.005 mJy\n",
      "VLA A Array Integration time 3125.0 s\n"
     ]
    }
   ],
   "source": [
    "#VLA A Array\n",
    "beam_size = (1.22 * lamda)/d * ((60 * 180)/np.pi) \n",
    "n_source = 100 * (0.03/60)**2\n",
    "confusion_limit = np.sqrt(n_source)\n",
    "print('VLA A Array confusion Limit',confusion_limit,'mJy')\n",
    "dt = 2*confusion_limit*1e-3\n",
    "t = ((T_sys/dt)**2)/bw\n",
    "print('VLA A Array Integration time',t,'s')"
   ]
  },
  {
   "cell_type": "code",
   "execution_count": 15,
   "metadata": {},
   "outputs": [
    {
     "name": "stdout",
     "output_type": "stream",
     "text": [
      "VLA D Array confusion Limit 0.5 mJy\n",
      "VLA D Array Integration time 0.3125 s\n"
     ]
    }
   ],
   "source": [
    "# VLA D Array\n",
    "beam_size = (1.22 * lamda)/d * ((60 * 180)/np.pi)\n",
    "n_source = 100 * (3/60)**2\n",
    "confusion_limit = np.sqrt(n_source)\n",
    "print('VLA D Array confusion Limit',confusion_limit,'mJy')\n",
    "dt = 2*confusion_limit*1e-3\n",
    "t = ((T_sys/dt)**2)/bw\n",
    "print('VLA D Array Integration time',t,'s')"
   ]
  }
 ],
 "metadata": {
  "kernelspec": {
   "display_name": "Python 3",
   "language": "python",
   "name": "python3"
  },
  "language_info": {
   "codemirror_mode": {
    "name": "ipython",
    "version": 3
   },
   "file_extension": ".py",
   "mimetype": "text/x-python",
   "name": "python",
   "nbconvert_exporter": "python",
   "pygments_lexer": "ipython3",
   "version": "3.8.5"
  }
 },
 "nbformat": 4,
 "nbformat_minor": 4
}
