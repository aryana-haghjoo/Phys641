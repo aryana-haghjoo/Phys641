{
 "cells": [
  {
   "cell_type": "code",
   "execution_count": 1,
   "metadata": {},
   "outputs": [],
   "source": [
    "import numpy as np\n",
    "import matplotlib.pyplot as plt"
   ]
  },
  {
   "cell_type": "code",
   "execution_count": 2,
   "metadata": {},
   "outputs": [],
   "source": [
    "def first_plot(filename):    \n",
    "    data = np.loadtxt(filename) \n",
    "    data = data[:,:3]\n",
    "    data = data*1e-9*3e8\n",
    "    N = data.shape[0]\n",
    "    nvis = N*(N-1)//2\n",
    "    latitude = 34.1 * np.pi/180 \n",
    "    zenith = np.asarray([np.cos(latitude),0,np.sin(latitude)])\n",
    "    east = np.asarray([0,1,0])\n",
    "    north = np.cross(zenith,east)\n",
    "    mat = np.vstack([north,east,zenith])\n",
    "    xyz = data@mat.T\n",
    "    ns = xyz[:,0]\n",
    "    ew = xyz[:,1]   \n",
    "    return data, N, nvis, xyz,ns"
   ]
  },
  {
   "cell_type": "code",
   "execution_count": 3,
   "metadata": {},
   "outputs": [],
   "source": [
    "def second_plot(filename):\n",
    "    data, N, nvis, xyz, ns = first_plot(filename)\n",
    "    uv = np.zeros([nvis,2])\n",
    "    icur = 0\n",
    "    for i in range(N):\n",
    "        for j in range(i+1,N):\n",
    "            uv[icur,:]=xyz[i,:2]-xyz[j,:2]\n",
    "            icur=icur+1\n",
    "    uv = np.vstack([uv,-1*uv])\n",
    "    uv_3d = np.zeros([nvis,3])\n",
    "    icur = 0\n",
    "    for i in range(N):\n",
    "        for j in range(i+1,N):\n",
    "            uv_3d[icur,:]=data[i,:]-data[j,:]\n",
    "            icur=icur+1\n",
    "    uv_3d=np.vstack([uv_3d,-uv_3d])  \n",
    "    return uv, uv_3d"
   ]
  },
  {
   "cell_type": "markdown",
   "metadata": {},
   "source": [
    "# Q2-a"
   ]
  },
  {
   "cell_type": "code",
   "execution_count": 4,
   "metadata": {},
   "outputs": [],
   "source": [
    "#field of view : lambda/D\n",
    "D = 25 #m\n",
    "v_1 = 1.4E9 #Hz\n",
    "v_2 = 8E9 #Hz\n",
    "c = 3E8 #m/s\n",
    "lamda_1 = c / v_1\n",
    "lamda_2 = c / v_2\n",
    "theta_1 = lamda_1/25\n",
    "theta_2 = lamda_2/25"
   ]
  },
  {
   "cell_type": "code",
   "execution_count": 5,
   "metadata": {},
   "outputs": [
    {
     "name": "stdout",
     "output_type": "stream",
     "text": [
      "field of view of VLA for v = 1.4GHz: 0.00857142857142857\n",
      "field of view of VLA for v = 8GHz: 0.0015\n"
     ]
    }
   ],
   "source": [
    "print('field of view of VLA for v = 1.4GHz: '+ repr(theta_1))\n",
    "print('field of view of VLA for v = 8GHz: '+ repr(theta_2))"
   ]
  },
  {
   "cell_type": "markdown",
   "metadata": {},
   "source": [
    "# Q2-b"
   ]
  },
  {
   "cell_type": "code",
   "execution_count": 6,
   "metadata": {},
   "outputs": [
    {
     "name": "stdout",
     "output_type": "stream",
     "text": [
      "For VLA A Array, the RMS of difference in 2D distance is:  100.20122037249209 meters\n"
     ]
    }
   ],
   "source": [
    "#VLA A array\n",
    "uv_a, uv_3d_a = second_plot('vla_a_array.txt')\n",
    "angle_1 = [0,np.sin(0)]  \n",
    "angle_2 = [0,np.sin(0.00872)] \n",
    "distance_1 = np.dot(uv_a,angle_1)\n",
    "distance_2 = np.dot(uv_a,angle_2)\n",
    "difference_2d_a = distance_1 - distance_2\n",
    "rms_2d_a = np.sqrt(np.mean(difference_2d_a**2))\n",
    "print('For VLA A Array, the RMS of difference in 2D distance is: ', repr(rms_2d_a), 'meters')"
   ]
  },
  {
   "cell_type": "code",
   "execution_count": 7,
   "metadata": {},
   "outputs": [
    {
     "name": "stdout",
     "output_type": "stream",
     "text": [
      "For VLA D Array, the RMS of difference in 2D distance is:  2.8247545365970925 meters\n"
     ]
    }
   ],
   "source": [
    "#VLA D array\n",
    "uv_d, uv_3d_d = second_plot('vla_d_array.txt')\n",
    "angle_1 = [0,np.sin(0)]  \n",
    "angle_2 = [0,np.sin(0.00872)] \n",
    "distance_1 = np.dot(uv_d,angle_1)\n",
    "distance_2 = np.dot(uv_d,angle_2)\n",
    "difference_2d_d = distance_1 - distance_2\n",
    "rms_2d_d = np.sqrt(np.mean(difference_2d_d**2))\n",
    "print('For VLA D Array, the RMS of difference in 2D distance is: ', repr(rms_2d_d), 'meters')"
   ]
  },
  {
   "cell_type": "markdown",
   "metadata": {},
   "source": [
    "# Q2-c"
   ]
  },
  {
   "cell_type": "code",
   "execution_count": 8,
   "metadata": {},
   "outputs": [
    {
     "name": "stdout",
     "output_type": "stream",
     "text": [
      "For VLA A Array, the RMS of difference in 3D distance is:  100.19876756025172 meters\n"
     ]
    }
   ],
   "source": [
    "#VLA A array\n",
    "angle_1 = [0,np.sin(0),np.cos(0)]\n",
    "angle_2 = [0,np.sin(0.00872),np.cos(0.00872)] \n",
    "distance_1 = np.dot(uv_3d_a, angle_1)\n",
    "distance_2 = np.dot(uv_3d_a, angle_2)\n",
    "difference_3d_a = distance_1 - distance_2\n",
    "rms_3d_a = np.sqrt(np.mean(difference_3d_a**2))\n",
    "print('For VLA A Array, the RMS of difference in 3D distance is: ', repr(rms_3d_a), 'meters')"
   ]
  },
  {
   "cell_type": "code",
   "execution_count": 9,
   "metadata": {},
   "outputs": [
    {
     "name": "stdout",
     "output_type": "stream",
     "text": [
      "For VLA D Array, the RMS of difference in 3D distance is:  2.8247209444038184 meters\n"
     ]
    }
   ],
   "source": [
    "#VLA D array\n",
    "angle_1 = [0,np.sin(0),np.cos(0)]\n",
    "angle_2 = [0,np.sin(0.00872),np.cos(0.00872)] \n",
    "distance_1 = np.dot(uv_3d_d, angle_1)\n",
    "distance_2 = np.dot(uv_3d_d, angle_2)\n",
    "difference_3d_d = distance_1 - distance_2\n",
    "rms_3d_d = np.sqrt(np.mean(difference_3d_d**2))\n",
    "print('For VLA D Array, the RMS of difference in 3D distance is: ', repr(rms_3d_d), 'meters')"
   ]
  },
  {
   "cell_type": "code",
   "execution_count": 10,
   "metadata": {},
   "outputs": [
    {
     "name": "stdout",
     "output_type": "stream",
     "text": [
      "For VLA A Array, the difference in 2D and 3D RMS is:  0.0024528122403637553 meters\n",
      "For VLA D Array, the difference in 2D and 3D RMS is:  3.359219327414564e-05 meters\n"
     ]
    }
   ],
   "source": [
    "print('For VLA A Array, the difference in 2D and 3D RMS is: ', repr(rms_2d_a-rms_3d_a), 'meters')\n",
    "print('For VLA D Array, the difference in 2D and 3D RMS is: ', repr(rms_2d_d-rms_3d_d), 'meters')"
   ]
  },
  {
   "cell_type": "markdown",
   "metadata": {},
   "source": [
    "# Q2-d"
   ]
  },
  {
   "cell_type": "code",
   "execution_count": 11,
   "metadata": {},
   "outputs": [
    {
     "name": "stdout",
     "output_type": "stream",
     "text": [
      "VLA A Array\n",
      "\n",
      "RMS Phase Difference (Directly Overhead)\n",
      "For 1.4 GHz:  47.74005783179409 radians\n",
      "For 8 GHz:  2761.1817232443063 radians\n",
      "\n",
      "RMS Phase Difference - (Equator)\n",
      "For 1.4 GHz:  51.3442234951155 radians\n",
      "For 8 GHz:  2969.6388724201934 radians\n"
     ]
    }
   ],
   "source": [
    "#VLA A array  \n",
    "print('VLA A Array')\n",
    "print('\\n'+ 'RMS Phase Difference (Directly Overhead)')  \n",
    "fwhm = 0.00036\n",
    "θ = 34.1 + fwhm\n",
    "phase = ( 2*np.pi*rms_2d_a-rms_3d_a*np.sin(θ) ) / 0.214 \n",
    "print('For 1.4 GHz: ',phase*np.pi/180,'radians')\n",
    "    \n",
    "phase = ( 2*np.pi*rms_2d_a-rms_3d_a*np.sin(θ) ) / 0.0037 \n",
    "print('For 8 GHz: ',phase*np.pi/180,'radians')\n",
    "    \n",
    "print('\\n' + 'RMS Phase Difference (Equator)')\n",
    "    \n",
    "θ = 0 + fwhm\n",
    "phase = ( 2*np.pi*rms_2d_a-rms_3d_a*np.sin(θ) ) / 0.214\n",
    "print('For 1.4 GHz: ',phase*np.pi/180,'radians')\n",
    "    \n",
    "phase = ( 2*np.pi*rms_2d_a-rms_3d_a*np.sin(θ) ) / 0.0037 \n",
    "print('For 8 GHz: ',phase*np.pi/180,'radians')"
   ]
  },
  {
   "cell_type": "code",
   "execution_count": 12,
   "metadata": {},
   "outputs": [
    {
     "name": "stdout",
     "output_type": "stream",
     "text": [
      "VLA D Array\n",
      "\n",
      "RMS Phase Difference (Directly Overhead)\n",
      "For 1.4 GHz:  1.348243133272406 radians\n",
      "For 8 GHz:  77.97946770818778 radians\n",
      "\n",
      "RMS Phase Difference - (Equator)\n",
      "For 1.4 GHz:  1.4447542237204547 radians\n",
      "For 8 GHz:  83.56146050707494 radians\n"
     ]
    }
   ],
   "source": [
    "#VLA D array\n",
    "print('VLA D Array')\n",
    "print('\\n'+ 'RMS Phase Difference (Directly Overhead)')  \n",
    "fwhm = 0.012\n",
    "θ = 34.1 + fwhm\n",
    "phase = ( 2*np.pi*rms_2d_d-rms_3d_d*np.sin(θ) ) / 0.214 \n",
    "print('For 1.4 GHz: ',phase*np.pi/180,'radians')\n",
    "    \n",
    "phase = ( 2*np.pi*rms_2d_d-rms_3d_d*np.sin(θ) ) / 0.0037 \n",
    "print('For 8 GHz: ',phase*np.pi/180,'radians')\n",
    "    \n",
    "print('\\n' + 'RMS Phase Difference - (Equator)')\n",
    "    \n",
    "θ = 0 + fwhm\n",
    "phase = ( 2*np.pi*rms_2d_d-rms_3d_d*np.sin(θ) ) / 0.214\n",
    "print('For 1.4 GHz: ',phase*np.pi/180,'radians')\n",
    "    \n",
    "phase = ( 2*np.pi*rms_2d_d-rms_3d_d*np.sin(θ) ) / 0.0037 \n",
    "print('For 8 GHz: ',phase*np.pi/180,'radians')"
   ]
  },
  {
   "cell_type": "markdown",
   "metadata": {},
   "source": [
    "# Q3"
   ]
  },
  {
   "cell_type": "code",
   "execution_count": 13,
   "metadata": {},
   "outputs": [],
   "source": [
    "data_a = np.loadtxt('vla_a_array.txt')\n",
    "data_d = np.loadtxt('vla_d_array.txt')\n",
    "lat = 34.1 * np.pi / 180\n",
    "zenith = np.asarray([np.cos(lat),0,np.sin(lat)])\n",
    "EW = np.asarray([0,1,0])\n",
    "NS = np.cross(zenith,EW)\n",
    "mat = np.vstack([NS,EW,zenith])\n",
    "antpos_a = data_a[:,:3]\n",
    "antpos_a = antpos_a * 1e-9 * 3e8\n",
    "xyz_a = antpos_a @ mat.T\n",
    "antpos_d = data_d[:,:3]\n",
    "antpos_d = antpos_d * 1e-9 * 3e8\n",
    "xyz_d = antpos_d @ mat.T"
   ]
  },
  {
   "cell_type": "code",
   "execution_count": 14,
   "metadata": {},
   "outputs": [
    {
     "name": "stdout",
     "output_type": "stream",
     "text": [
      "VLA A Array\n",
      "Frequency Shift for directly overhead:  13158012.549157595  Hz\n"
     ]
    }
   ],
   "source": [
    "#directly overhead\n",
    "d_vec_3d_a = np.array([np.sin(34.1 * np.pi / 180),0,np.cos(34.1 * np.pi / 180)])\n",
    "d_overhead_a = np.dot(xyz_a,d_vec_3d_a)\n",
    "freq_shift_a = 1 / ((2 * np.pi * difference_3d_a  / 3e8))\n",
    "r_nu_a = np.sqrt(np.mean(freq_shift_a**2))\n",
    "print('VLA A Array')\n",
    "print('Frequency Shift for directly overhead: ', r_nu_a, ' Hz')"
   ]
  },
  {
   "cell_type": "code",
   "execution_count": 15,
   "metadata": {},
   "outputs": [
    {
     "name": "stdout",
     "output_type": "stream",
     "text": [
      "VLA A Array\n",
      "Frequency Shift for 1 FWHM to the south:  13158012.549157595  Hz\n"
     ]
    }
   ],
   "source": [
    "#1 FWHM to the south\n",
    "d_vec_3d_a = np.array([np.sin((34.1 + 0.5) * np.pi / 180),0,np.cos((34.1 + 0.5) * np.pi / 180)])\n",
    "d_overhead_a = np.dot(xyz_a,d_vec_3d_a)\n",
    "freq_shift_a = 1 / ((2 * np.pi * difference_3d_a / 3e8))\n",
    "r_nu_a = np.sqrt(np.mean(freq_shift_a**2))\n",
    "print('VLA A Array')\n",
    "print('Frequency Shift for 1 FWHM to the south: ', r_nu_a, ' Hz')"
   ]
  },
  {
   "cell_type": "code",
   "execution_count": 16,
   "metadata": {},
   "outputs": [
    {
     "name": "stdout",
     "output_type": "stream",
     "text": [
      "VLA D Array\n",
      "Frequency Shift for directly overhead:  13158012.549157595  Hz\n"
     ]
    }
   ],
   "source": [
    "#directly overhead\n",
    "d_vec_3d_d = np.array([np.sin(34.1 * np.pi / 180),0,np.cos(34.1 * np.pi / 180)])\n",
    "d_overhead_d = np.dot(xyz_d,d_vec_3d_d)\n",
    "freq_shift_d = 1 / ((2 * np.pi * difference_3d_d  / 3e8))\n",
    "r_nu_d = np.sqrt(np.mean(freq_shift_d**2))\n",
    "print('VLA D Array')\n",
    "print('Frequency Shift for directly overhead: ', r_nu_a, ' Hz')"
   ]
  },
  {
   "cell_type": "code",
   "execution_count": 17,
   "metadata": {},
   "outputs": [
    {
     "name": "stdout",
     "output_type": "stream",
     "text": [
      "VLA D Array\n",
      "Frequency Shift for 1 FWHM to the south:  268755283.9903136  Hz\n"
     ]
    }
   ],
   "source": [
    "#1 FWHM to the south\n",
    "d_vec_3d_d = np.array([np.sin((34.1 + 0.5) * np.pi / 180),0,np.cos((34.1 + 0.5) * np.pi / 180)])\n",
    "d_overhead_d = np.dot(xyz_d,d_vec_3d_d)\n",
    "freq_shift_d = 1 / ((2 * np.pi * difference_3d_d / 3e8))\n",
    "r_nu_d = np.sqrt(np.mean(freq_shift_d**2))\n",
    "print('VLA D Array')\n",
    "print('Frequency Shift for 1 FWHM to the south: ', r_nu_d, ' Hz')"
   ]
  }
 ],
 "metadata": {
  "kernelspec": {
   "display_name": "Python 3",
   "language": "python",
   "name": "python3"
  },
  "language_info": {
   "codemirror_mode": {
    "name": "ipython",
    "version": 3
   },
   "file_extension": ".py",
   "mimetype": "text/x-python",
   "name": "python",
   "nbconvert_exporter": "python",
   "pygments_lexer": "ipython3",
   "version": "3.8.5"
  }
 },
 "nbformat": 4,
 "nbformat_minor": 4
}
