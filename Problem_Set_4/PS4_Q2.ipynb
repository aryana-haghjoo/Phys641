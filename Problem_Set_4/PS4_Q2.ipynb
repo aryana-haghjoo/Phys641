{
 "cells": [
  {
   "cell_type": "code",
   "execution_count": 1,
   "metadata": {},
   "outputs": [],
   "source": [
    "import numpy as np\n",
    "from matplotlib import pyplot as plt"
   ]
  },
  {
   "cell_type": "markdown",
   "metadata": {},
   "source": [
    "The area of the dish is:\n",
    "\n",
    "$A_d = \\pi R^2$\n",
    "\n",
    "Effective area:\n",
    "\n",
    "$A_e = -2\\pi\\sigma^2[exp(-R^2/2\\sigma^2)-1]$\n",
    "\n",
    "The total beam integral is:\n",
    "\n",
    "$B_t = 2 \\pi \\sigma$\n",
    "\n",
    "With this information in hand, we can say that the fraction of the beam that arrives at the primary, will be:\n",
    "\n",
    "$A_f = A_e/B_t$ "
   ]
  },
  {
   "cell_type": "code",
   "execution_count": 6,
   "metadata": {},
   "outputs": [],
   "source": [
    "R = 1\n",
    "A_d = R**2 * np.pi\n",
    "sigmas = np.linspace(0.1, 10, 100)\n",
    "\n",
    "A_e = np.zeros(len(sigmas)) #effective area\n",
    "B_t = np.zeros(len(sigmas)) #total beam\n",
    "\n",
    "for i in range (len(sigmas)):\n",
    "    A_e[i] = -2 * np.pi * sigmas[i]**2 * (np.exp(-R**2/(2 * sigmas[i]**2)) - 1)\n",
    "    B_t[i]= (2 * np.pi * sigmas[i]**2)\n",
    "\n",
    "A_n = A_e/A_d            # normalized area    \n",
    "A_f = A_e/B_t            # arrived beams\n",
    "signals = A_n * A_f"
   ]
  },
  {
   "cell_type": "code",
   "execution_count": 12,
   "metadata": {},
   "outputs": [
    {
     "name": "stdout",
     "output_type": "stream",
     "text": [
      "Value of sigma which maximizes the signal at the feed is:  0.6\n",
      "Aeff/A at the peak is:  0.5404664096803468\n",
      "The fraction of the beam that ends up off of the primary is:  0.24935220877729625\n"
     ]
    }
   ],
   "source": [
    "print(\"Value of sigma which maximizes the signal at the feed is: \", sigmas[np.argmax(signals)])\n",
    "print(\"Aeff/A at the peak is: \", A_n[np.argmax(signals)])\n",
    "print(\"The fraction of the beam that ends up off of the primary is: \", 1 - A_f[np.argmax(signals)])"
   ]
  },
  {
   "cell_type": "code",
   "execution_count": 11,
   "metadata": {},
   "outputs": [
    {
     "data": {
      "image/png": "[encoded data removed]",
      "text/plain": [
       "<Figure size 432x288 with 1 Axes>"
      ]
     },
     "metadata": {
      "needs_background": "light"
     },
     "output_type": "display_data"
    }
   ],
   "source": [
    "plt.plot(sigmas,signals)\n",
    "plt.xlabel('sigma')\n",
    "plt.ylabel('signal')\n",
    "plt.show()"
   ]
  },
  {
   "cell_type": "markdown",
   "metadata": {},
   "source": [
    "To calculate the $\\delta T $, we use the fact that:\n",
    "\n",
    "$\\delta T = T_{sys}/\\sqrt Bt$"
   ]
  },
  {
   "cell_type": "code",
   "execution_count": 5,
   "metadata": {},
   "outputs": [
    {
     "name": "stdout",
     "output_type": "stream",
     "text": [
      "0.00032950376289923167\n"
     ]
    }
   ],
   "source": [
    "B = 1.4e9\n",
    "t = 120\n",
    "\n",
    "T_g = 300 * (1 - A_f[np.argmax(signals)])\n",
    "T_n = 25\n",
    "\n",
    "Tsys = T_g + T_n\n",
    "delta_T = Tsys / np.sqrt(B * t)\n",
    "\n",
    "print(delta_T)"
   ]
  }
 ],
 "metadata": {
  "kernelspec": {
   "display_name": "Python 3",
   "language": "python",
   "name": "python3"
  },
  "language_info": {
   "codemirror_mode": {
    "name": "ipython",
    "version": 3
   },
   "file_extension": ".py",
   "mimetype": "text/x-python",
   "name": "python",
   "nbconvert_exporter": "python",
   "pygments_lexer": "ipython3",
   "version": "3.8.5"
  }
 },
 "nbformat": 4,
 "nbformat_minor": 5
}
