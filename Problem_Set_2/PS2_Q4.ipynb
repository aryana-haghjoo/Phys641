{
 "cells": [
  {
   "cell_type": "markdown",
   "metadata": {},
   "source": [
    "The \"update_lamda\" function is problamatic. If the first step in the iterations has a lower chi-square, then lambda =0 will be given to the function and lamda = 0 will come out. If this happens in the next steps, thn lambda will not change at all. "
   ]
  },
  {
   "cell_type": "markdown",
   "metadata": {},
   "source": [
    "Why are the chi-square values very low?"
   ]
  },
  {
   "cell_type": "markdown",
   "metadata": {},
   "source": [
    "Should I feed different m0 to these three?"
   ]
  },
  {
   "cell_type": "code",
   "execution_count": 1,
   "metadata": {},
   "outputs": [],
   "source": [
    "import numpy as np\n",
    "import matplotlib.pyplot as plt"
   ]
  },
  {
   "cell_type": "code",
   "execution_count": 2,
   "metadata": {},
   "outputs": [],
   "source": [
    "def gauss (m, x):\n",
    "    #get y=a+b*exp((x-x0)^2/2sig^2)\n",
    "    #this needs to be changed, I do not need the first two params!\n",
    "    #a = m[0]\n",
    "    #b = m[1]\n",
    "    x0 = m[0]\n",
    "    sig = m[1]\n",
    "    expvec = np.exp(-0.5*(x-x0)**2/sig**2)\n",
    "    \n",
    "    #y = a+b*expvec\n",
    "    y = expvec\n",
    "    derivs = np.empty([len(x), len(m)])\n",
    "    \n",
    "    #derivs[:,0] = 1\n",
    "    #derivs[:,1] = expvec\n",
    "    \n",
    "    #derivs[:, 0] = b*(x-x0)*2/(2*sig**2)*expvec\n",
    "    derivs[:, 0] = (x-x0)*2/(2*sig**2)*expvec\n",
    "    #derivs[:, 1] = b*(0.5*(x-x0)**2)*2/sig**3*expvec\n",
    "    derivs[:, 1] = (0.5*(x-x0)**2)*2/sig**3*expvec\n",
    "\n",
    "    return y,derivs\n",
    "\n",
    "def update_lamda(lamda, success):\n",
    "    if success:\n",
    "        lamda=lamda/1.5\n",
    "        if lamda<0.5:\n",
    "            lamda=0\n",
    "    else:\n",
    "        if lamda==0:\n",
    "            lamda=1\n",
    "        else:\n",
    "            lamda=lamda*1.5**2\n",
    "    return lamda\n",
    "\n",
    "def get_matrices(m, fun, x, y, Ninv):\n",
    "    model,derivs=fun(m,x)\n",
    "    r=y-model\n",
    "    if Ninv is None:\n",
    "        lhs=derivs.T@derivs\n",
    "        rhs=derivs.T@r\n",
    "        chisq=np.sum(r**2)\n",
    "    else:\n",
    "        lhs=derivs.T@Ninv@derivs\n",
    "        rhs=derivs.T@(Ninv@r)\n",
    "        chisq=r.T@Ninv@r\n",
    "    return chisq,lhs,rhs\n",
    "\n",
    "def linv(mat,lamda):\n",
    "    mat=mat+lamda*np.diag(np.diag(mat))\n",
    "    return np.linalg.inv(mat)\n",
    "\n",
    "def fit_lm(m, fun, x, y, Ninv, niter=10, chitol=0.001):\n",
    "#levenberg-marquardt fitter that supports noise\n",
    "    lamda=0\n",
    "    chisq,lhs,rhs=get_matrices(m,fun,x,y,Ninv)\n",
    "    for i in range(niter):\n",
    "        lhs_inv=linv(lhs,lamda)\n",
    "        dm=lhs_inv@rhs\n",
    "        chisq_new,lhs_new,rhs_new=get_matrices(m+dm,fun,x,y,Ninv)\n",
    "        if chisq_new<chisq:  \n",
    "            #accept the step\n",
    "            #check if we think we are converged - for this, check if \n",
    "            #lamda is zero (i.e. the steps are sensible), and the change in \n",
    "            #chi^2 is very small - that means we must be very close to the\n",
    "            #current minimum\n",
    "            if lamda==0:\n",
    "                if (np.abs(chisq-chisq_new)<chitol):\n",
    "                    #print(np.abs(chisq-chisq_new))\n",
    "                    print('Converged after ',i,' iterations of LM')\n",
    "                    return m+dm\n",
    "            chisq=chisq_new\n",
    "            lhs=lhs_new\n",
    "            rhs=rhs_new\n",
    "            m = m+dm\n",
    "            lamda=update_lamda(lamda,True)\n",
    "            \n",
    "        else:\n",
    "            lamda=update_lamda(lamda,False)\n",
    "        print('on iteration ', i,' chisq is ', chisq,' with step ', dm,' and lamda ', lamda)\n",
    "    return m\n",
    "\n",
    "def chi_square(obs, exp): # to measure the quality of fit (cacualte the bias)\n",
    "    return np.sum(((obs-exp)**2)/exp)"
   ]
  },
  {
   "cell_type": "code",
   "execution_count": 3,
   "metadata": {},
   "outputs": [],
   "source": [
    "#defining the noise matrix\n",
    "def noise_matrix(n, a, sigma):\n",
    "    N = np.zeros((n, n))\n",
    "    for i in range(n):\n",
    "        for j in range(n):\n",
    "            if i == j:\n",
    "                N[i, j] = a * np.exp((-1 * (i - j)**2)/(2 * sigma**2)) + (1 - a)\n",
    "            else:\n",
    "                N[i, j] = a * np.exp((-1 * (i - j)**2)/(2 * sigma**2))\n",
    "    return N"
   ]
  },
  {
   "cell_type": "markdown",
   "metadata": {},
   "source": [
    "# a"
   ]
  },
  {
   "cell_type": "code",
   "execution_count": 4,
   "metadata": {},
   "outputs": [],
   "source": [
    "#generating the data\n",
    "x = np.arange(0, 1000, 1)\n",
    "m_true = np.asarray([500, 50]) #the original set of params to generate data\n",
    "m0 = m_true + np.random.randn(len(m_true))*10\n",
    "y, derivs = gauss(m_true, x) #the noise-free data"
   ]
  },
  {
   "cell_type": "code",
   "execution_count": 5,
   "metadata": {},
   "outputs": [],
   "source": [
    "a = [0.1, 0.5, 0.9]\n",
    "sigma = [0.1, 0.5, 0.9]\n",
    "\n",
    "N_1 = noise_matrix (len(x), a[0], sigma[0])\n",
    "N_2 = noise_matrix (len(x), a[1], sigma[1])\n",
    "N_3 = noise_matrix (len(x), a[2], sigma[2])\n",
    "\n",
    "N_1_inv = np.linalg.inv(N_1)\n",
    "N_2_inv = np.linalg.inv(N_2)\n",
    "N_3_inv = np.linalg.inv(N_3)"
   ]
  },
  {
   "cell_type": "code",
   "execution_count": 6,
   "metadata": {},
   "outputs": [
    {
     "name": "stdout",
     "output_type": "stream",
     "text": [
      "on iteration  0  chisq is  0.014252744765107407  with step  [-1.1639515  9.0755122]  and lamda  0\n",
      "on iteration  1  chisq is  2.0094241849213195e-07  with step  [-0.1796332   0.71192439]  and lamda  0\n",
      "Converged after  2  iterations of LM\n",
      "on iteration  0  chisq is  0.016183738401747052  with step  [-1.16396544  9.07556078]  and lamda  0\n",
      "on iteration  1  chisq is  2.2810769124813567e-07  with step  [-0.17961954  0.71187631]  and lamda  0\n",
      "Converged after  2  iterations of LM\n",
      "on iteration  0  chisq is  0.03033129510720546  with step  [-1.16404094  9.07582369]  and lamda  0\n",
      "on iteration  1  chisq is  4.2691897510919017e-07  with step  [-0.17954562  0.71161604]  and lamda  0\n",
      "Converged after  2  iterations of LM\n"
     ]
    }
   ],
   "source": [
    "m_fit_1 = fit_lm(m0, gauss, x, y, N_1, niter=10)\n",
    "m_fit_2 = fit_lm(m0, gauss, x, y, N_2, niter=10)\n",
    "m_fit_3 = fit_lm(m0, gauss, x, y, N_3, niter=10)"
   ]
  },
  {
   "cell_type": "code",
   "execution_count": 7,
   "metadata": {},
   "outputs": [],
   "source": [
    "y_1, derivs_1 = gauss(m_fit_1, x)\n",
    "y_2, derivs_2 = gauss(m_fit_1, x) \n",
    "y_3, derivs_3 = gauss(m_fit_1, x) "
   ]
  },
  {
   "cell_type": "code",
   "execution_count": 8,
   "metadata": {},
   "outputs": [
    {
     "name": "stdout",
     "output_type": "stream",
     "text": [
      "[500.00000003  49.99999997]\n",
      "[500.00000003  49.99999997]\n",
      "[500.00000003  49.99999997]\n"
     ]
    }
   ],
   "source": [
    "print(m_fit_1)\n",
    "print(m_fit_2)\n",
    "print(m_fit_3)"
   ]
  },
  {
   "cell_type": "code",
   "execution_count": 12,
   "metadata": {},
   "outputs": [],
   "source": [
    "error_1 = y_1 - y\n",
    "error_2 = y_2 - y\n",
    "error_3 = y_3 - y"
   ]
  },
  {
   "cell_type": "code",
   "execution_count": 13,
   "metadata": {},
   "outputs": [
    {
     "data": {
      "text/plain": [
       "-6.535016426205718e-11"
      ]
     },
     "execution_count": 13,
     "metadata": {},
     "output_type": "execute_result"
    }
   ],
   "source": [
    "np.mean(error_1)"
   ]
  }
 ],
 "metadata": {
  "kernelspec": {
   "display_name": "Python 3",
   "language": "python",
   "name": "python3"
  },
  "language_info": {
   "codemirror_mode": {
    "name": "ipython",
    "version": 3
   },
   "file_extension": ".py",
   "mimetype": "text/x-python",
   "name": "python",
   "nbconvert_exporter": "python",
   "pygments_lexer": "ipython3",
   "version": "3.8.5"
  }
 },
 "nbformat": 4,
 "nbformat_minor": 4
}
