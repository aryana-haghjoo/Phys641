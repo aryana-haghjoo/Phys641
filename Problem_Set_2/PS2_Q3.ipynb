{
 "cells": [
  {
   "cell_type": "code",
   "execution_count": 1,
   "metadata": {},
   "outputs": [],
   "source": [
    "import numpy as np\n",
    "import matplotlib.pyplot as plt"
   ]
  },
  {
   "cell_type": "code",
   "execution_count": 2,
   "metadata": {},
   "outputs": [],
   "source": [
    "#constructing the noise matrix\n",
    "n = 100\n",
    "N = np.zeros((n, n))\n",
    "for i in range(n):\n",
    "    for j in range(n):\n",
    "        N [i, j] = 1\n",
    "        if i == j:\n",
    "            N [i, j] = N [i, j] + 1"
   ]
  },
  {
   "cell_type": "code",
   "execution_count": 3,
   "metadata": {},
   "outputs": [],
   "source": [
    "#function to draw samples from our noise matrix\n",
    "def draw_samples(N):\n",
    "    n = N.shape[0]\n",
    "    mat = np.random.randn(n, 1)\n",
    "    L = np.zeros((n, n))\n",
    "    #L = np.linalg.cholesky(N)\n",
    "    w, v = np.linalg.eig(N)\n",
    "    \n",
    "    for i in range(n):\n",
    "        L [:, i] = np.real(np.sqrt(w [i])) * np.real(v [:, i])\n",
    "    #v = (sqrt(w))v\n",
    "    return np.real(L@mat)"
   ]
  },
  {
   "cell_type": "markdown",
   "metadata": {},
   "source": [
    "Since in general the eigenvector (and eigenvalues) can be complex, the samples produced from this eigenvector might be the same case. Therefore, if we only want to deal with real values, we have to throw away the complex part in sample data. (I once tried the code with complex part included, went on and calculated the average over <dd.T>. At last, the complex part of the mean of difference between <dd.T> and noise matrix was of the order of 10^-19 which is neglible)"
   ]
  },
  {
   "cell_type": "code",
   "execution_count": 4,
   "metadata": {},
   "outputs": [],
   "source": [
    "#generate random correlated data\n",
    "sample = draw_samples(N)\n",
    "#print(sample.shape)"
   ]
  },
  {
   "cell_type": "markdown",
   "metadata": {},
   "source": [
    "# Average over <dd.T>"
   ]
  },
  {
   "cell_type": "code",
   "execution_count": 5,
   "metadata": {},
   "outputs": [],
   "source": [
    "iteration = 10000\n",
    "SST = np.zeros ((iteration, n, n))\n",
    "\n",
    "for i in range (iteration):\n",
    "    s = draw_samples(N)\n",
    "    #print(s.shape)\n",
    "    #print(s.T.shape)\n",
    "    s2 = s@s.T\n",
    "    #print(s2.shape)\n",
    "    #SST = SST + s2\n",
    "    SST[i, :, :] = s2 [:, :]\n",
    "#avg = SST / iteration    "
   ]
  },
  {
   "cell_type": "code",
   "execution_count": 6,
   "metadata": {},
   "outputs": [],
   "source": [
    "average = np.mean(SST, axis =0)"
   ]
  },
  {
   "cell_type": "code",
   "execution_count": 7,
   "metadata": {},
   "outputs": [
    {
     "data": {
      "text/plain": [
       "(100, 100)"
      ]
     },
     "execution_count": 7,
     "metadata": {},
     "output_type": "execute_result"
    }
   ],
   "source": [
    "np.shape(average)"
   ]
  },
  {
   "cell_type": "code",
   "execution_count": 8,
   "metadata": {},
   "outputs": [
    {
     "name": "stdout",
     "output_type": "stream",
     "text": [
      "The average difference is 0.07714991616897605 %\n"
     ]
    }
   ],
   "source": [
    "print ('The average difference is ' + repr(100* abs(np.mean((average - N)/N))) + ' %')"
   ]
  }
 ],
 "metadata": {
  "kernelspec": {
   "display_name": "Python 3",
   "language": "python",
   "name": "python3"
  },
  "language_info": {
   "codemirror_mode": {
    "name": "ipython",
    "version": 3
   },
   "file_extension": ".py",
   "mimetype": "text/x-python",
   "name": "python",
   "nbconvert_exporter": "python",
   "pygments_lexer": "ipython3",
   "version": "3.8.5"
  }
 },
 "nbformat": 4,
 "nbformat_minor": 4
}
