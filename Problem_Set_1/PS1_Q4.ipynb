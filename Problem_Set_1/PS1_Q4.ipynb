{
 "cells": [
  {
   "cell_type": "code",
   "execution_count": 1,
   "metadata": {},
   "outputs": [],
   "source": [
    "import numpy as np\n",
    "from matplotlib import pyplot as plt"
   ]
  },
  {
   "cell_type": "markdown",
   "metadata": {},
   "source": [
    "# Defining the fit algorithm (Levenberg-Marquadt)"
   ]
  },
  {
   "cell_type": "markdown",
   "metadata": {},
   "source": [
    "Since I faced some problems with the linear least-squares fit, I decided to use a non-linear method. The original code for this method was taken from Jon's codes for Phys512 course (version 2021) which I had last year. "
   ]
  },
  {
   "cell_type": "markdown",
   "metadata": {},
   "source": [
    "The Gaussian function that is defined hereunder, relies on 4 parameters."
   ]
  },
  {
   "cell_type": "code",
   "execution_count": 2,
   "metadata": {},
   "outputs": [],
   "source": [
    "def gauss(m,x):\n",
    "    #get y=a+b*exp((x-x0)^2/2sig^2)\n",
    "    a=m[0]\n",
    "    b=m[1]\n",
    "    x0=m[2]\n",
    "    sig=m[3]\n",
    "    expvec=np.exp(-0.5*(x-x0)**2/sig**2)\n",
    "    y=a+b*expvec\n",
    "    derivs=np.empty([len(x),len(m)])\n",
    "    derivs[:,0]=1\n",
    "    derivs[:,1]=expvec\n",
    "    derivs[:,2]=b*(x-x0)*2/(2*sig**2)*expvec\n",
    "    derivs[:,3]=b*(0.5*(x-x0)**2)*2/sig**3*expvec\n",
    "\n",
    "    return y,derivs\n",
    "\n",
    "def update_lamda(lamda,success):\n",
    "    if success:\n",
    "        lamda=lamda/1.5\n",
    "        if lamda<0.5:\n",
    "            lamda=0\n",
    "    else:\n",
    "        if lamda==0:\n",
    "            lamda=1\n",
    "        else:\n",
    "            lamda=lamda*1.5**2\n",
    "    return lamda\n",
    "\n",
    "def get_matrices(m,fun,x,y,Ninv=None):\n",
    "    model,derivs=fun(m,x)\n",
    "    r=y-model\n",
    "    if Ninv is None:\n",
    "        lhs=derivs.T@derivs\n",
    "        rhs=derivs.T@r\n",
    "        chisq=np.sum(r**2)\n",
    "    else:\n",
    "        lhs=derivs.T@Ninv@derivs\n",
    "        rhs=derivs.T@(Ninv@r)\n",
    "        chisq=r.T@Ninv@r\n",
    "    return chisq,lhs,rhs\n",
    "\n",
    "def linv(mat,lamda):\n",
    "    mat=mat+lamda*np.diag(np.diag(mat))\n",
    "    return np.linalg.pinv(mat)\n",
    "\n",
    "def fit_lm(m,fun,x,y,Ninv=None,niter=10,chitol=0.01):\n",
    "#levenberg-marquardt fitter that doesn't wastefully call extra\n",
    "#function evaluations, plus supports noise\n",
    "    lamda=0\n",
    "    chisq,lhs,rhs=get_matrices(m,fun,x,y,Ninv)\n",
    "    for i in range(niter):\n",
    "        lhs_inv=linv(lhs,lamda)\n",
    "        dm=lhs_inv@rhs\n",
    "        chisq_new,lhs_new,rhs_new=get_matrices(m+dm,fun,x,y,Ninv)\n",
    "        if chisq_new<chisq:  \n",
    "            #accept the step\n",
    "            #check if we think we are converged - for this, check if \n",
    "            #lamda is zero (i.e. the steps are sensible), and the change in \n",
    "            #chi^2 is very small - that means we must be very close to the\n",
    "            #current minimum\n",
    "            if lamda==0:\n",
    "                if (np.abs(chisq-chisq_new)<chitol):\n",
    "                    #print(np.abs(chisq-chisq_new))\n",
    "                    #print('Converged after ',i,' iterations of LM')\n",
    "                    return m+dm\n",
    "            chisq=chisq_new\n",
    "            lhs=lhs_new\n",
    "            rhs=rhs_new\n",
    "            m=m+dm\n",
    "            lamda=update_lamda(lamda,True)\n",
    "            \n",
    "        else:\n",
    "            lamda=update_lamda(lamda,False)\n",
    "        #print('on iteration ',i,' chisq is ',chisq,' with step ',dm,' and lamda ',lamda)\n",
    "    return m\n",
    "\n",
    "def chi_square(obs, exp): # to measure the quality of fit (cacualte the bias)\n",
    "    return np.sum(((obs-exp)**2)/exp)"
   ]
  },
  {
   "cell_type": "markdown",
   "metadata": {},
   "source": [
    "# Generating the data Set"
   ]
  },
  {
   "cell_type": "markdown",
   "metadata": {},
   "source": [
    "In order to generate the data sets, I use my \"gauss\" function and add noise using np.random.randn"
   ]
  },
  {
   "cell_type": "code",
   "execution_count": 3,
   "metadata": {},
   "outputs": [],
   "source": [
    "x = np.linspace(-5,5,51)\n",
    "m_true = np.asarray([0, 1, 0, 1]) #the original set of params to generate data\n",
    "y_true, derivs = gauss(m_true,x) #the noise-free data\n",
    "n_chunk = 10000 #number of chunks\n",
    "\n",
    "def generate_data(n_chunk, x, y_true): #generates an arbitary number of noisy data sets and stores them in a 2D array\n",
    "    signal = np.zeros((n_chunk, len(x)))\n",
    "    noise = np.random.randn(n_chunk, len(x))\n",
    "    var = np.zeros((n_chunk))\n",
    "    \n",
    "    for i in range(n_chunk):\n",
    "        signal[i, :] = y_true + noise[i, :] #calculating the noisy data\n",
    "        var[i] = np.var(signal[i, :])     #calculating the noise on data\n",
    "        # Since we assumed that noise is constant within a chunk and is equal to the scatter in the observed data\n",
    "    return signal, var\n",
    "\n",
    "# y is the noisy data and var is the noise\n",
    "y, var = generate_data(n_chunk, x, y_true)\n",
    "\n",
    "m0 = m_true + np.random.randn(len(m_true))*1.0\n",
    "m_fit_many = np.zeros((n_chunk, len(m_true)))\n",
    "y_fit_many = np.zeros((n_chunk, len(x)))\n",
    "for i in range(n_chunk):\n",
    "    m_fit = fit_lm(m0, gauss, x, y[i, :], niter=20)\n",
    "    m_fit_many[i, :] = m_fit #the matrix which includes the value of fitted params for each chunk\n",
    "    y_fit, derivs = gauss(m_fit,x)\n",
    "    y_fit_many[i, :] = y_fit #the matrix which includes the values of fitted gaussian curves for each chunk\n",
    " "
   ]
  },
  {
   "cell_type": "markdown",
   "metadata": {},
   "source": [
    "# Sample fit"
   ]
  },
  {
   "cell_type": "markdown",
   "metadata": {},
   "source": [
    "Plotting the fit for one of the chunks as a sample"
   ]
  },
  {
   "cell_type": "code",
   "execution_count": 15,
   "metadata": {},
   "outputs": [
    {
     "data": {
      "image/png": "[encoded data removed]",
      "text/plain": [
       "<Figure size 432x288 with 1 Axes>"
      ]
     },
     "metadata": {
      "needs_background": "light"
     },
     "output_type": "display_data"
    }
   ],
   "source": [
    "sample = 7502 # an arbitary sample number\n",
    "plt.plot(x, y_fit_many[sample, :], label=\"fit\")\n",
    "plt.plot(x, y[sample, :], label=\"noisy data\")\n",
    "plt.plot(x, y_true, label='template signal')\n",
    "plt.legend()\n",
    "plt.show()"
   ]
  },
  {
   "cell_type": "markdown",
   "metadata": {},
   "source": [
    "# Overall fit"
   ]
  },
  {
   "cell_type": "markdown",
   "metadata": {},
   "source": [
    "To find the weighted average over all of the chunks"
   ]
  },
  {
   "cell_type": "code",
   "execution_count": 5,
   "metadata": {},
   "outputs": [],
   "source": [
    "# the wights for the weighted average are w_i = sigma_i ^ -2/ var ^-2\n",
    "w = var **(-2)\n",
    "w_t = np.sum(w)\n",
    "temp = np.zeros((n_chunk, len(x)))\n",
    "summation = np.zeros(len(x))\n",
    "average = np.zeros(len(x))\n",
    "for i in range(n_chunk):\n",
    "    temp[i, :] = w [i] * y_fit_many[i, :]\n",
    "for i in range(len(x)):\n",
    "    summation[i] = np.sum (temp[:, i])\n",
    "    average [i] = summation [i]/w_t"
   ]
  },
  {
   "cell_type": "code",
   "execution_count": 6,
   "metadata": {},
   "outputs": [
    {
     "name": "stdout",
     "output_type": "stream",
     "text": [
      "The chi-square for this fit is:  9146.866933848729\n"
     ]
    },
    {
     "data": {
      "image/png": "[encoded data removed]",
      "text/plain": [
       "<Figure size 432x288 with 1 Axes>"
      ]
     },
     "metadata": {
      "needs_background": "light"
     },
     "output_type": "display_data"
    }
   ],
   "source": [
    "print('The chi-square for this fit is: ', repr(chi_square(average, y_true)))\n",
    "plt.plot(x, average, label='overall fit')\n",
    "plt.plot(x, y_true, label='template signal')\n",
    "plt.legend()\n",
    "plt.show()"
   ]
  },
  {
   "cell_type": "markdown",
   "metadata": {},
   "source": [
    "My individual chunk fits were also a bit biased. However, the bias on overall weighted avergard signal is much more than those (With regard to chi-square values)."
   ]
  }
 ],
 "metadata": {
  "kernelspec": {
   "display_name": "Python 3",
   "language": "python",
   "name": "python3"
  },
  "language_info": {
   "codemirror_mode": {
    "name": "ipython",
    "version": 3
   },
   "file_extension": ".py",
   "mimetype": "text/x-python",
   "name": "python",
   "nbconvert_exporter": "python",
   "pygments_lexer": "ipython3",
   "version": "3.8.5"
  }
 },
 "nbformat": 4,
 "nbformat_minor": 4
}
